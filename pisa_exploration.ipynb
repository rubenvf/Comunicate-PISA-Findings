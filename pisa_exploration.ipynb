{
 "cells": [
  {
   "cell_type": "markdown",
   "metadata": {},
   "source": [
    "# Comunicate Data Findings: PISA (Program for International Student Assessment)"
   ]
  },
  {
   "cell_type": "markdown",
   "metadata": {},
   "source": [
    "This document explores the 2012 PISA report dataset, which contains data related to the preparation of students for real-life challenges."
   ]
  },
  {
   "cell_type": "markdown",
   "metadata": {},
   "source": [
    "## Overview of the dataset"
   ]
  },
  {
   "cell_type": "code",
   "execution_count": 62,
   "metadata": {},
   "outputs": [],
   "source": [
    "import pandas as pd\n",
    "import numpy as np\n",
    "import matplotlib.pyplot as plt\n",
    "import seaborn as sb\n",
    "%matplotlib inline"
   ]
  },
  {
   "cell_type": "code",
   "execution_count": 3,
   "metadata": {},
   "outputs": [],
   "source": [
    "df_pisa = pd.read_csv('pisa2012.csv', encoding=\"latin-1\", low_memory = False)"
   ]
  },
  {
   "cell_type": "code",
   "execution_count": 123,
   "metadata": {},
   "outputs": [
    {
     "data": {
      "text/plain": [
       "(485490, 636)"
      ]
     },
     "execution_count": 123,
     "metadata": {},
     "output_type": "execute_result"
    }
   ],
   "source": [
    "df_pisa.shape"
   ]
  },
  {
   "cell_type": "markdown",
   "metadata": {},
   "source": [
    "Because the file is huge (contains 636 variables and 485490 observations), only 22 variables have been chosen. As the names of the variables are not very explanatory, they have been changed to more appropriate ones."
   ]
  },
  {
   "cell_type": "code",
   "execution_count": 129,
   "metadata": {},
   "outputs": [],
   "source": [
    "#Select desired columns\n",
    "df = df_pisa[['CNT', 'ST04Q01', 'AGE', 'IMMIG', 'ST25Q01', 'CULTDIST', 'FAMSTRUC', 'HISCED', 'HEDRES', 'WEALTH', 'HOMEPOS',\n",
    "'CULTPOS', 'ST43Q01', 'ST53Q01', 'BELONG', 'TIMEINT', 'LMINS', 'MMINS', 'SMINS', 'PV1MATH', 'PV1READ', 'PV1SCIE']]"
   ]
  },
  {
   "cell_type": "code",
   "execution_count": 48,
   "metadata": {},
   "outputs": [
    {
     "name": "stderr",
     "output_type": "stream",
     "text": [
      "C:\\Users\\rvile\\anaconda3\\envs\\visualization\\lib\\site-packages\\pandas\\core\\frame.py:4438: SettingWithCopyWarning: \n",
      "A value is trying to be set on a copy of a slice from a DataFrame\n",
      "\n",
      "See the caveats in the documentation: https://pandas.pydata.org/pandas-docs/stable/user_guide/indexing.html#returning-a-view-versus-a-copy\n",
      "  return super().rename(\n"
     ]
    }
   ],
   "source": [
    "#Assign explanatory names\n",
    "df.rename({'CNT': 'country', 'ST04Q01': 'gender', 'AGE': 'age', 'IMMIG': 'immigration_status', 'ST25Q01': 'international_language_home', 'CULTDIST': 'cultural_dist', 'FAMSTRUC': 'family_structure', 'HISCED': 'highest_education_parents', 'HEDRES': 'home_educational_resources', 'WEALTH': 'wealth',\n",
    "'HOMEPOS': 'home_possessions', 'CULTPOS': 'cultural_possessions', 'ST43Q01': 'perceived_control', 'ST53Q01': 'learning_strategies', 'BELONG': 'sense_belonging', 'TIMEINT': 'time_computer_use', 'LMINS': 'language_learning_time', 'MMINS': 'math_learning_time', 'SMINS': 'science_learning_time', \n",
    "           'PV1MATH': 'math_score', 'PV1READ': 'reading_score', 'PV1SCIE': 'science_score'}, axis = 'columns', inplace = True)"
   ]
  },
  {
   "cell_type": "code",
   "execution_count": 124,
   "metadata": {},
   "outputs": [
    {
     "name": "stdout",
     "output_type": "stream",
     "text": [
      "   country  gender    age immigration_status international_language_home  \\\n",
      "0  Albania  Female  16.17             Native        Language of the test   \n",
      "1  Albania  Female  16.17             Native        Language of the test   \n",
      "2  Albania  Female  15.58             Native        Language of the test   \n",
      "3  Albania  Female  15.67             Native        Language of the test   \n",
      "4  Albania  Female  15.50             Native        Language of the test   \n",
      "\n",
      "   cultural_dist  family_structure highest_education_parents  \\\n",
      "0            NaN               2.0         ISCED 3A, ISCED 4   \n",
      "1            NaN               2.0               ISCED 5A, 6   \n",
      "2            NaN               2.0               ISCED 5A, 6   \n",
      "3            NaN               2.0               ISCED 5A, 6   \n",
      "4            NaN               2.0         ISCED 3A, ISCED 4   \n",
      "\n",
      "   home_educational_resources  wealth  ...  perceived_control  \\\n",
      "0                       -1.29   -2.92  ...              Agree   \n",
      "1                        1.12    0.69  ...     Strongly agree   \n",
      "2                       -0.69   -0.23  ...     Strongly agree   \n",
      "3                        0.04   -1.17  ...                NaN   \n",
      "4                       -0.69   -1.17  ...     Strongly agree   \n",
      "\n",
      "   learning_strategies sense_belonging time_computer_use  \\\n",
      "0                  NaN           -1.18               NaN   \n",
      "1    relating to known             NaN               NaN   \n",
      "2       Most important             NaN               NaN   \n",
      "3    relating to known             NaN               NaN   \n",
      "4                  NaN            2.63               NaN   \n",
      "\n",
      "   language_learning_time  math_learning_time  science_learning_time  \\\n",
      "0                     NaN                 NaN                    NaN   \n",
      "1                   315.0               270.0                   90.0   \n",
      "2                   300.0                 NaN                    NaN   \n",
      "3                   135.0               135.0                   90.0   \n",
      "4                     NaN                 NaN                    NaN   \n",
      "\n",
      "   math_score  reading_score  science_score  \n",
      "0    406.8469       249.5762       341.7009  \n",
      "1    486.1427       406.2936       548.9929  \n",
      "2    533.2684       401.2100       499.6643  \n",
      "3    412.2215       547.3630       438.6796  \n",
      "4    381.9209       311.7707       361.5628  \n",
      "\n",
      "[5 rows x 22 columns]\n",
      "<class 'pandas.core.frame.DataFrame'>\n",
      "RangeIndex: 485490 entries, 0 to 485489\n",
      "Data columns (total 22 columns):\n",
      " #   Column                       Non-Null Count   Dtype  \n",
      "---  ------                       --------------   -----  \n",
      " 0   country                      485490 non-null  object \n",
      " 1   gender                       485490 non-null  object \n",
      " 2   age                          485374 non-null  float64\n",
      " 3   immigration_status           471793 non-null  object \n",
      " 4   international_language_home  465496 non-null  object \n",
      " 5   cultural_dist                13380 non-null   float64\n",
      " 6   family_structure             429058 non-null  float64\n",
      " 7   highest_education_parents    473091 non-null  object \n",
      " 8   home_educational_resources   477772 non-null  float64\n",
      " 9   wealth                       479597 non-null  float64\n",
      " 10  home_possessions             479807 non-null  float64\n",
      " 11  cultural_possessions         471357 non-null  float64\n",
      " 12  perceived_control            314971 non-null  object \n",
      " 13  learning_strategies          309947 non-null  object \n",
      " 14  sense_belonging              313399 non-null  float64\n",
      " 15  time_computer_use            297074 non-null  float64\n",
      " 16  language_learning_time       282866 non-null  float64\n",
      " 17  math_learning_time           283303 non-null  float64\n",
      " 18  science_learning_time        270914 non-null  float64\n",
      " 19  math_score                   485490 non-null  float64\n",
      " 20  reading_score                485490 non-null  float64\n",
      " 21  science_score                485490 non-null  float64\n",
      "dtypes: float64(15), object(7)\n",
      "memory usage: 81.5+ MB\n"
     ]
    }
   ],
   "source": [
    "#Overview of data composition\n",
    "print(df.head())\n",
    "df.info()"
   ]
  },
  {
   "cell_type": "markdown",
   "metadata": {},
   "source": [
    "## Which is the structure of the dataset?"
   ]
  },
  {
   "cell_type": "markdown",
   "metadata": {},
   "source": [
    "Out of the 22 variables that have been chosen, 8 are categorical in nature, while the remaining 14 are numerical. Although some of these variables are easy to understand, there are others that need further explanation given in the chapter 16 of the [PISA technical report](https://www.oecd.org/pisa/pisaproducts/PISA-2012-technical-report-final.pdf):\n",
    "\n",
    "- **Inmigration status**: (1) native parent (those parents who had at least one parent (students’ grandparent) born in the country of the assessment); (2) second generation parent (those born in the country of assessment but whose parent(s) were born in another country); (3) first-generation parent (those parent born outside the country of assessment and whose parents were also born outside the country of assessment). Parents with missing responses for either the parent or for both grandparents were assigned missing values for these\n",
    "\n",
    "\n",
    "- **International Language at Home**: (1) language at home is the same as the language of assessment for that student and (2) language at home is another language.\n",
    "\n",
    "\n",
    "- **Family Structure**: “1” if “single parent family” (students living with only one of the following: mother, father, male guardian, female guardian), “2” if “two parent family” (students living with a father or step/foster father and a mother or step/foster mother) and “3” for students who do not live with their parents.\n",
    "\n",
    "\n",
    "- **Highest educational level of parents**: (0) None, (1) ISCED 3A (general upper secondary) and/or ISCED 4 (non-tertiary post-secondary), (2) ISCED 5B (vocational tertiary), (3) ISCED 5A, 6 (theoretically oriented tertiary and post-graduate).\n",
    "\n",
    "\n",
    "- **Home Possessions**: This index is a summary of all household items from the columns wealth, cultural_possessions and home_educational_resources, but it also included the variable indicating the number of books at home (ST28) which was recoded from the original six categories into three: (0) 0-25 books, (1) 26-100 books, (2) more than 100.\n",
    "\n",
    "<img src=\"Possesions table report.png\" alt=\"400\" width=\"800\"/>\n",
    "\n",
    "- **Sense of belonging**: This indicates the degree to which each student feels that he or she belongs to his or her school. The PISA report states that this indicator has a moderate to low reliability.\n",
    "\n",
    "\n",
    "- **Learning strategies**: Learn the important parts of the subject, relate new knowledge to existing concepts and learn by heart.\n",
    "\n"
   ]
  },
  {
   "cell_type": "markdown",
   "metadata": {},
   "source": [
    "## Which are the main features of interest?"
   ]
  },
  {
   "cell_type": "markdown",
   "metadata": {},
   "source": [
    "The variables that will serve as a reference point in this dataset will be the scores in mathematics, reading and science."
   ]
  },
  {
   "cell_type": "markdown",
   "metadata": {},
   "source": [
    "## What features will help support the investigation into the features of interest?"
   ]
  },
  {
   "cell_type": "markdown",
   "metadata": {},
   "source": [
    "From an initial point of view, it is assumed that the greater influence on the score obtained will be associated with a longer learning time in each of the subjects. To a lesser extent, family structure, immigration status, parental education and wealth are expected to have a significant impact on the score."
   ]
  },
  {
   "cell_type": "markdown",
   "metadata": {},
   "source": [
    "## Univariate exploration"
   ]
  },
  {
   "cell_type": "code",
   "execution_count": 127,
   "metadata": {},
   "outputs": [
    {
     "data": {
      "image/png": "[encoded data removed]",
      "text/plain": [
       "<Figure size 576x864 with 3 Axes>"
      ]
     },
     "metadata": {
      "needs_background": "light"
     },
     "output_type": "display_data"
    }
   ],
   "source": [
    "# re-plot the distribution of scores.\n",
    "fig, ax = plt.subplots(nrows=3, figsize = [8,12])\n",
    "bin_size = 25\n",
    "variables = ['math_score', 'reading_score', 'science_score']\n",
    "for i in range(len(variables)):\n",
    "    var = variables[i]\n",
    "    bins = np.arange(min(df[var]), max(df[var])+bin_size, bin_size)\n",
    "    ax[i].hist(data = df, x = var, bins = bins)\n",
    "    ax[i].set_xlabel('{} '.format(var))\n",
    "\n",
    "plt.show()"
   ]
  },
  {
   "cell_type": "markdown",
   "metadata": {},
   "source": [
    "The scores of the three subjects present a normal distribution with an average close to 500 points out of 1000."
   ]
  },
  {
   "cell_type": "code",
   "execution_count": 121,
   "metadata": {},
   "outputs": [
    {
     "name": "stdout",
     "output_type": "stream",
     "text": [
      "language_learning_time\n",
      "math_learning_time\n",
      "science_learning_time\n"
     ]
    },
    {
     "data": {
      "image/png": "[encoded data removed]",
      "text/plain": [
       "<Figure size 576x864 with 3 Axes>"
      ]
     },
     "metadata": {
      "needs_background": "light"
     },
     "output_type": "display_data"
    }
   ],
   "source": [
    "# re-plot the distribution of time studying.\n",
    "fig, ax = plt.subplots(nrows=3, figsize = [8,12])\n",
    "bin_size = 30\n",
    "variables = ['language_learning_time', 'math_learning_time', 'science_learning_time']\n",
    "for i in range(len(variables)):\n",
    "    var = variables[i]\n",
    "    print(var)\n",
    "    bins = np.arange(np.nanmin(df[var]), np.nanmax(df[var])+bin_size, bin_size)\n",
    "    ax[i].hist(data = df, x = var, bins = bins)\n",
    "    ax[i].set_xlabel('{} (minutes per week)'.format(var))\n",
    "    \n",
    "plt.show()"
   ]
  },
  {
   "cell_type": "code",
   "execution_count": 114,
   "metadata": {},
   "outputs": [
    {
     "data": {
      "text/plain": [
       "count    313399.000000\n",
       "mean         -0.022259\n",
       "std           0.983503\n",
       "min          -3.690000\n",
       "25%          -0.740000\n",
       "50%          -0.150000\n",
       "75%           0.560000\n",
       "max           2.630000\n",
       "Name: sense_belonging, dtype: float64"
      ]
     },
     "execution_count": 114,
     "metadata": {},
     "output_type": "execute_result"
    }
   ],
   "source": [
    "df.sense_belonging.describe()"
   ]
  },
  {
   "cell_type": "code",
   "execution_count": 59,
   "metadata": {},
   "outputs": [],
   "source": [
    "bins_belonging = np.arange(-3.62, 2.63+1.25, 1.25)"
   ]
  },
  {
   "cell_type": "code",
   "execution_count": 60,
   "metadata": {},
   "outputs": [
    {
     "data": {
      "text/plain": [
       "array([-3.62, -2.37, -1.12,  0.13,  1.38,  2.63])"
      ]
     },
     "execution_count": 60,
     "metadata": {},
     "output_type": "execute_result"
    }
   ],
   "source": [
    "bins_belonging"
   ]
  },
  {
   "cell_type": "code",
   "execution_count": null,
   "metadata": {},
   "outputs": [],
   "source": []
  }
 ],
 "metadata": {
  "kernelspec": {
   "display_name": "Python 3",
   "language": "python",
   "name": "python3"
  },
  "language_info": {
   "codemirror_mode": {
    "name": "ipython",
    "version": 3
   },
   "file_extension": ".py",
   "mimetype": "text/x-python",
   "name": "python",
   "nbconvert_exporter": "python",
   "pygments_lexer": "ipython3",
   "version": "3.8.5"
  }
 },
 "nbformat": 4,
 "nbformat_minor": 4
}
